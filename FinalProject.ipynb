{
 "cells": [
  {
   "cell_type": "markdown",
   "id": "5240eaa4-467d-4b0e-bfd2-5d627e3ea3e4",
   "metadata": {},
   "source": [
    "# Final Project\n",
    "\n",
    "Use the NASA JPL Small-Body Database to Find Relationships Between Asteroid Parameters"
   ]
  },
  {
   "cell_type": "markdown",
   "id": "100b02bb-c821-43af-8fc1-27d0150eeefe",
   "metadata": {},
   "source": [
    "There are about 1.2 million asteroid data in the NASA JPL Small-Body Database, however not every data has complete parameters, in this project we will have two topics:\n",
    "1) Asteroid Mining: \n",
    "\n",
    "We will use several orbital parameters, probably including asteroid size, mass (if available) and bulk albedo to predict possible spectral classifications. It is actually a classification challenge, we expect to use at least two different methods here, such as K-Means and PCA.\n",
    "[Science Projects: Asteroid Mining](https://www.sciencebuddies.org/science-fair-projects/project-ideas/Astro_p038/astronomy/asteroid-mining-gold-rush-in-space)\n",
    "\n",
    "2) Asteroid Mass Estimator:\n",
    "\n",
    "There has been little quantitative analysis of asteroid masses in the NASA JPL dataset,  the majority of the data points lack GM values. That is because an accurate asteroid masses estimation usually requires close encounters or high-accuracy orbit observation of a multiple-body system. However, mass is one of the most crucial asteroid features. One may determine the potential interior composition of an asteroid by combining its mass and size. The makeup of asteroids is a reflection of the accretion and collisional environment that existed in the early solar system. Therefore, it could be useful if we could predict the possible mass from the known parameters. In this part, we will build a neural network to give the possible mass range of asteroids with unknown mass.\n",
    "\n",
    "However, considering that quality is affected by multiple observables, only 15 GM data points are likely to be insufficient for even the most preliminary analysis. [Density of asteroids by B. Carry](https://arxiv.org/pdf/1203.4336.pdf) is the first comprehensive paper review with mass estimates for roughly 250 asteroids. \n",
    "\n",
    "Additionally, as the volume is the third power of the dimension, the inferred mass error could result from inaccurate dimensions, which would result in a threefold increase in the error.\n",
    "\n",
    "3) Other Useful Links:\n",
    "\n",
    "[List of exceptional asteroids on Wiki](https://en.wikipedia.org/wiki/List_of_exceptional_asteroids)"
   ]
  },
  {
   "cell_type": "markdown",
   "id": "5175c89e-e50e-4587-8472-e428e12d5e25",
   "metadata": {},
   "source": [
    "### Read data"
   ]
  },
  {
   "cell_type": "code",
   "execution_count": 5,
   "id": "1bc38331-88ca-4ece-8065-513d162d7338",
   "metadata": {
    "execution": {
     "iopub.execute_input": "2022-10-17T09:52:08.328495Z",
     "iopub.status.busy": "2022-10-17T09:52:08.328236Z",
     "iopub.status.idle": "2022-10-17T09:52:10.633280Z",
     "shell.execute_reply": "2022-10-17T09:52:10.632795Z",
     "shell.execute_reply.started": "2022-10-17T09:52:08.328481Z"
    },
    "tags": []
   },
   "outputs": [
    {
     "name": "stdout",
     "output_type": "stream",
     "text": [
      "List of column names:  ['spec_B', 'spec_T', 'full_name', 'diameter', 'extent', 'albedo', 'a', 'q', 'i', 'GM', 'rot_per', 'BV', 'UB', 'IR']\n",
      "Total data point number: 1242581\n"
     ]
    }
   ],
   "source": [
    "import csv\n",
    "#opening the csv file by specifying\n",
    "with open('sbdb_asteroids.csv') as csv_file:\n",
    "    # Creating an object of csv reader\n",
    "    csv_reader = csv.reader(csv_file, delimiter = ',')\n",
    "    columns = []\n",
    " \n",
    "    # loop to iterate through the rows of csv\n",
    "    for row in csv_reader:\n",
    "        # Write columns\n",
    "        columns.append(row)\n",
    "# printing the result\n",
    "column_names = columns[0]\n",
    "print(\"List of column names: \", columns[0])\n",
    "print(\"Total data point number: \"+ str(len(columns)))"
   ]
  },
  {
   "cell_type": "code",
   "execution_count": 8,
   "id": "225d55b6-9400-427f-b542-b5637946f326",
   "metadata": {
    "execution": {
     "iopub.execute_input": "2022-10-17T09:55:29.033108Z",
     "iopub.status.busy": "2022-10-17T09:55:29.032880Z",
     "iopub.status.idle": "2022-10-17T09:55:30.692748Z",
     "shell.execute_reply": "2022-10-17T09:55:30.692245Z",
     "shell.execute_reply.started": "2022-10-17T09:55:29.033096Z"
    },
    "tags": []
   },
   "outputs": [
    {
     "name": "stdout",
     "output_type": "stream",
     "text": [
      "The number of data with known spec_B: 1666\n",
      "The number of data with known spec_T: 980\n",
      "The number of data with known full_name: 1242580\n",
      "The number of data with known diameter: 139680\n",
      "The number of data with known extent: 20\n",
      "The number of data with known albedo: 138546\n",
      "The number of data with known a: 1242580\n",
      "The number of data with known q: 1242580\n",
      "The number of data with known i: 1242580\n",
      "The number of data with known GM: 15\n",
      "The number of data with known rot_per: 33350\n",
      "The number of data with known BV: 1021\n",
      "The number of data with known UB: 979\n",
      "The number of data with known IR: 1\n"
     ]
    }
   ],
   "source": [
    "for i in range(len(column_names)):\n",
    "    non_empty_number = 0\n",
    "    for data in columns[1:]:\n",
    "        if data[i] !='':\n",
    "            non_empty_number += 1\n",
    "    print(\"The number of data with known \"+column_names[i]+\": \"+ str(non_empty_number))"
   ]
  },
  {
   "cell_type": "code",
   "execution_count": null,
   "id": "677269fd-2d80-44e6-8219-b506566f2c59",
   "metadata": {},
   "outputs": [],
   "source": []
  }
 ],
 "metadata": {
  "kernelspec": {
   "display_name": "Python 3 (ipykernel)",
   "language": "python",
   "name": "python3"
  },
  "language_info": {
   "codemirror_mode": {
    "name": "ipython",
    "version": 3
   },
   "file_extension": ".py",
   "mimetype": "text/x-python",
   "name": "python",
   "nbconvert_exporter": "python",
   "pygments_lexer": "ipython3",
   "version": "3.10.6"
  }
 },
 "nbformat": 4,
 "nbformat_minor": 5
}
